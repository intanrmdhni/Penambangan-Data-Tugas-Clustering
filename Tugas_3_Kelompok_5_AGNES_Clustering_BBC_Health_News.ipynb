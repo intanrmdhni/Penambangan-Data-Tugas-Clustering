{
  "nbformat": 4,
  "nbformat_minor": 0,
  "metadata": {
    "colab": {
      "name": "Tugas 3 - Kelompok 5 - AGNES Clustering - BBC Health News",
      "provenance": [],
      "collapsed_sections": [
        "QhSCrKVflZ6z",
        "WKmTJdCJbzPl",
        "tMGEgP0pgQwD"
      ]
    },
    "kernelspec": {
      "name": "python3",
      "display_name": "Python 3"
    },
    "language_info": {
      "name": "python"
    }
  },
  "cells": [
    {
      "cell_type": "markdown",
      "metadata": {
        "id": "QhSCrKVflZ6z"
      },
      "source": [
        "# Import"
      ]
    },
    {
      "cell_type": "code",
      "metadata": {
        "id": "sqnFNmk6jyv8"
      },
      "source": [
        "import pandas as pd\n",
        "import numpy as np\n",
        "import re\n",
        "import string\n",
        "\n",
        "from numpy import unique\n",
        "from numpy import where\n",
        "from nltk.tokenize import word_tokenize\n",
        "from nltk.tag import pos_tag\n",
        "from nltk.stem import WordNetLemmatizer, PorterStemmer\n",
        "from sklearn.feature_extraction.text import TfidfVectorizer\n",
        "from sklearn.cluster import KMeans\n",
        "from sklearn.cluster import AgglomerativeClustering\n",
        "from sklearn.decomposition import PCA\n",
        "from sklearn.metrics import silhouette_score\n",
        "\n",
        "import scipy.cluster.hierarchy as shc\n",
        "import matplotlib.pyplot as plt\n",
        "import seaborn as sns"
      ],
      "execution_count": 1,
      "outputs": []
    },
    {
      "cell_type": "code",
      "metadata": {
        "colab": {
          "base_uri": "https://localhost:8080/"
        },
        "id": "TQYAwQcMlCxi",
        "outputId": "4767f6e2-5a11-4960-ff9a-025df7a20ad2"
      },
      "source": [
        "import nltk\n",
        "nltk.download('punkt')"
      ],
      "execution_count": 2,
      "outputs": [
        {
          "output_type": "stream",
          "name": "stdout",
          "text": [
            "[nltk_data] Downloading package punkt to /root/nltk_data...\n",
            "[nltk_data]   Package punkt is already up-to-date!\n"
          ]
        },
        {
          "output_type": "execute_result",
          "data": {
            "text/plain": [
              "True"
            ]
          },
          "metadata": {},
          "execution_count": 2
        }
      ]
    },
    {
      "cell_type": "code",
      "metadata": {
        "colab": {
          "base_uri": "https://localhost:8080/"
        },
        "id": "Anv8MohblKCf",
        "outputId": "9e0953cb-112f-4d2e-efdf-10d84c063357"
      },
      "source": [
        "nltk.download('averaged_perceptron_tagger')"
      ],
      "execution_count": 3,
      "outputs": [
        {
          "output_type": "stream",
          "name": "stdout",
          "text": [
            "[nltk_data] Downloading package averaged_perceptron_tagger to\n",
            "[nltk_data]     /root/nltk_data...\n",
            "[nltk_data]   Package averaged_perceptron_tagger is already up-to-\n",
            "[nltk_data]       date!\n"
          ]
        },
        {
          "output_type": "execute_result",
          "data": {
            "text/plain": [
              "True"
            ]
          },
          "metadata": {},
          "execution_count": 3
        }
      ]
    },
    {
      "cell_type": "code",
      "metadata": {
        "colab": {
          "base_uri": "https://localhost:8080/"
        },
        "id": "BJNKSk9elO0Z",
        "outputId": "61e24b5e-643f-47b2-f597-546536750b6f"
      },
      "source": [
        "nltk.download('wordnet')"
      ],
      "execution_count": 4,
      "outputs": [
        {
          "output_type": "stream",
          "name": "stdout",
          "text": [
            "[nltk_data] Downloading package wordnet to /root/nltk_data...\n",
            "[nltk_data]   Package wordnet is already up-to-date!\n"
          ]
        },
        {
          "output_type": "execute_result",
          "data": {
            "text/plain": [
              "True"
            ]
          },
          "metadata": {},
          "execution_count": 4
        }
      ]
    },
    {
      "cell_type": "markdown",
      "metadata": {
        "id": "WKmTJdCJbzPl"
      },
      "source": [
        "# Read Data"
      ]
    },
    {
      "cell_type": "code",
      "metadata": {
        "id": "YRPR7JwHdSGp"
      },
      "source": [
        "with open('/content/bbchealth.txt', 'r') as f:\n",
        "    bbc = f.readlines()\n",
        "\n",
        "regex = re.compile(r'(?P<tweet_id>.*)\\|(?P<date>.*)\\|(?P<news>.*)\\s?(?P<link>http://.*)')"
      ],
      "execution_count": 5,
      "outputs": []
    },
    {
      "cell_type": "code",
      "metadata": {
        "colab": {
          "base_uri": "https://localhost:8080/"
        },
        "id": "bh3rHdwWjjlw",
        "outputId": "99d436f1-406e-4f91-b7ba-b772a34b48c5"
      },
      "source": [
        "re.search(regex, bbc[0]).groupdict()"
      ],
      "execution_count": 6,
      "outputs": [
        {
          "output_type": "execute_result",
          "data": {
            "text/plain": [
              "{'date': 'Thu Apr 09 01:31:50 +0000 2015',\n",
              " 'link': 'http://bbc.in/1CimpJF',\n",
              " 'news': 'Breast cancer risk test devised ',\n",
              " 'tweet_id': '585978391360221184'}"
            ]
          },
          "metadata": {},
          "execution_count": 6
        }
      ]
    },
    {
      "cell_type": "code",
      "metadata": {
        "id": "XCsivziUjuXg"
      },
      "source": [
        "df = pd.DataFrame(columns=['tweet_id', 'date', 'news', 'link'])\n",
        "\n",
        "for line in bbc:\n",
        "    line_data = re.search(regex, line).groupdict()\n",
        "    df = df.append(line_data, ignore_index=True)"
      ],
      "execution_count": 7,
      "outputs": []
    },
    {
      "cell_type": "code",
      "metadata": {
        "colab": {
          "base_uri": "https://localhost:8080/",
          "height": 0
        },
        "id": "-3EpQ0tUj8bs",
        "outputId": "0d6b72a8-35d4-473c-ef1d-fed751e30449"
      },
      "source": [
        "df.head()"
      ],
      "execution_count": 8,
      "outputs": [
        {
          "output_type": "execute_result",
          "data": {
            "text/html": [
              "<div>\n",
              "<style scoped>\n",
              "    .dataframe tbody tr th:only-of-type {\n",
              "        vertical-align: middle;\n",
              "    }\n",
              "\n",
              "    .dataframe tbody tr th {\n",
              "        vertical-align: top;\n",
              "    }\n",
              "\n",
              "    .dataframe thead th {\n",
              "        text-align: right;\n",
              "    }\n",
              "</style>\n",
              "<table border=\"1\" class=\"dataframe\">\n",
              "  <thead>\n",
              "    <tr style=\"text-align: right;\">\n",
              "      <th></th>\n",
              "      <th>tweet_id</th>\n",
              "      <th>date</th>\n",
              "      <th>news</th>\n",
              "      <th>link</th>\n",
              "    </tr>\n",
              "  </thead>\n",
              "  <tbody>\n",
              "    <tr>\n",
              "      <th>0</th>\n",
              "      <td>585978391360221184</td>\n",
              "      <td>Thu Apr 09 01:31:50 +0000 2015</td>\n",
              "      <td>Breast cancer risk test devised</td>\n",
              "      <td>http://bbc.in/1CimpJF</td>\n",
              "    </tr>\n",
              "    <tr>\n",
              "      <th>1</th>\n",
              "      <td>585947808772960257</td>\n",
              "      <td>Wed Apr 08 23:30:18 +0000 2015</td>\n",
              "      <td>GP workload harming care - BMA poll</td>\n",
              "      <td>http://bbc.in/1ChTBRv</td>\n",
              "    </tr>\n",
              "    <tr>\n",
              "      <th>2</th>\n",
              "      <td>585947807816650752</td>\n",
              "      <td>Wed Apr 08 23:30:18 +0000 2015</td>\n",
              "      <td>Short people's 'heart risk greater'</td>\n",
              "      <td>http://bbc.in/1ChTANp</td>\n",
              "    </tr>\n",
              "    <tr>\n",
              "      <th>3</th>\n",
              "      <td>585866060991078401</td>\n",
              "      <td>Wed Apr 08 18:05:28 +0000 2015</td>\n",
              "      <td>New approach against HIV 'promising'</td>\n",
              "      <td>http://bbc.in/1E6jAjt</td>\n",
              "    </tr>\n",
              "    <tr>\n",
              "      <th>4</th>\n",
              "      <td>585794106170839041</td>\n",
              "      <td>Wed Apr 08 13:19:33 +0000 2015</td>\n",
              "      <td>Coalition 'undermined NHS' - doctors</td>\n",
              "      <td>http://bbc.in/1CnLwK7</td>\n",
              "    </tr>\n",
              "  </tbody>\n",
              "</table>\n",
              "</div>"
            ],
            "text/plain": [
              "             tweet_id  ...                   link\n",
              "0  585978391360221184  ...  http://bbc.in/1CimpJF\n",
              "1  585947808772960257  ...  http://bbc.in/1ChTBRv\n",
              "2  585947807816650752  ...  http://bbc.in/1ChTANp\n",
              "3  585866060991078401  ...  http://bbc.in/1E6jAjt\n",
              "4  585794106170839041  ...  http://bbc.in/1CnLwK7\n",
              "\n",
              "[5 rows x 4 columns]"
            ]
          },
          "metadata": {},
          "execution_count": 8
        }
      ]
    },
    {
      "cell_type": "markdown",
      "metadata": {
        "id": "tMGEgP0pgQwD"
      },
      "source": [
        "# Preprocessing"
      ]
    },
    {
      "cell_type": "code",
      "metadata": {
        "colab": {
          "base_uri": "https://localhost:8080/"
        },
        "id": "H1PpbNrNduOD",
        "outputId": "24a8f283-5acb-4baa-e3ed-003629560158"
      },
      "source": [
        "df.shape"
      ],
      "execution_count": 9,
      "outputs": [
        {
          "output_type": "execute_result",
          "data": {
            "text/plain": [
              "(3929, 4)"
            ]
          },
          "metadata": {},
          "execution_count": 9
        }
      ]
    },
    {
      "cell_type": "code",
      "metadata": {
        "colab": {
          "base_uri": "https://localhost:8080/"
        },
        "id": "VjwMRrk2gC5Z",
        "outputId": "226c8f00-1720-459f-f4e7-cdc7cdc5b3f0"
      },
      "source": [
        "df.info()"
      ],
      "execution_count": 10,
      "outputs": [
        {
          "output_type": "stream",
          "name": "stdout",
          "text": [
            "<class 'pandas.core.frame.DataFrame'>\n",
            "RangeIndex: 3929 entries, 0 to 3928\n",
            "Data columns (total 4 columns):\n",
            " #   Column    Non-Null Count  Dtype \n",
            "---  ------    --------------  ----- \n",
            " 0   tweet_id  3929 non-null   object\n",
            " 1   date      3929 non-null   object\n",
            " 2   news      3929 non-null   object\n",
            " 3   link      3929 non-null   object\n",
            "dtypes: object(4)\n",
            "memory usage: 122.9+ KB\n"
          ]
        }
      ]
    },
    {
      "cell_type": "code",
      "metadata": {
        "colab": {
          "base_uri": "https://localhost:8080/"
        },
        "id": "-MxC9oSZgOBK",
        "outputId": "3ca05ae6-ff5f-4417-d12f-c27a0e0fc6dc"
      },
      "source": [
        "df.isna().sum()"
      ],
      "execution_count": 11,
      "outputs": [
        {
          "output_type": "execute_result",
          "data": {
            "text/plain": [
              "tweet_id    0\n",
              "date        0\n",
              "news        0\n",
              "link        0\n",
              "dtype: int64"
            ]
          },
          "metadata": {},
          "execution_count": 11
        }
      ]
    },
    {
      "cell_type": "code",
      "metadata": {
        "colab": {
          "base_uri": "https://localhost:8080/"
        },
        "id": "XBvnkI4gq3kM",
        "outputId": "339717de-fe23-4e2e-835f-224bf75e39f3"
      },
      "source": [
        "df.duplicated().any()"
      ],
      "execution_count": 12,
      "outputs": [
        {
          "output_type": "execute_result",
          "data": {
            "text/plain": [
              "False"
            ]
          },
          "metadata": {},
          "execution_count": 12
        }
      ]
    },
    {
      "cell_type": "code",
      "metadata": {
        "id": "tE0DtvLpkdkM"
      },
      "source": [
        "lemmatizer = WordNetLemmatizer()"
      ],
      "execution_count": 13,
      "outputs": []
    },
    {
      "cell_type": "code",
      "metadata": {
        "id": "05pgPgNyg89w"
      },
      "source": [
        "# Normalisasi, metode berikut secara berurutan --, hapus spasi, hapus tanda baca dan angka, dan terakhir tokenisasi kata\n",
        "def normalize(line):\n",
        "    line = line.lower().strip()\n",
        "    line = ''.join([char for char in line if char not in string.punctuation+string.digits])\n",
        "    return word_tokenize(line)\n",
        "\n",
        "def lemmatize_sent(line_tokens):\n",
        "    return list(map(lemmatizer.lemmatize, line_tokens))\n",
        "\n",
        "def tokens(line_tokens):\n",
        "    word_tags = pos_tag(line_tokens)\n",
        "    return list(zip(*word_tags))[1]"
      ],
      "execution_count": 14,
      "outputs": []
    },
    {
      "cell_type": "code",
      "metadata": {
        "id": "QcB3dAbrhBxk"
      },
      "source": [
        "# Buat kolom token, tag, token lemmatizing\n",
        "df['news_tokens'] = df['news'].map(normalize)\n",
        "df['corresponding_tags'] = df['news_tokens'].map(tokens)\n",
        "df['lemmatized_news_tokens'] = df['news_tokens'].map(lemmatize_sent)"
      ],
      "execution_count": 15,
      "outputs": []
    },
    {
      "cell_type": "code",
      "metadata": {
        "id": "8rdPwjBllVaF"
      },
      "source": [
        "# Menghapus kolom yang tidak perlu\n",
        "df.drop(labels=['link'], inplace=True, axis=1)\n",
        "df.drop(labels=['tweet_id'], inplace=True, axis=1)"
      ],
      "execution_count": 16,
      "outputs": []
    },
    {
      "cell_type": "code",
      "metadata": {
        "colab": {
          "base_uri": "https://localhost:8080/",
          "height": 206
        },
        "id": "n3r_74qfletW",
        "outputId": "6eff9a07-806c-4cf7-dd0d-039c56695219"
      },
      "source": [
        "df.head()"
      ],
      "execution_count": 17,
      "outputs": [
        {
          "output_type": "execute_result",
          "data": {
            "text/html": [
              "<div>\n",
              "<style scoped>\n",
              "    .dataframe tbody tr th:only-of-type {\n",
              "        vertical-align: middle;\n",
              "    }\n",
              "\n",
              "    .dataframe tbody tr th {\n",
              "        vertical-align: top;\n",
              "    }\n",
              "\n",
              "    .dataframe thead th {\n",
              "        text-align: right;\n",
              "    }\n",
              "</style>\n",
              "<table border=\"1\" class=\"dataframe\">\n",
              "  <thead>\n",
              "    <tr style=\"text-align: right;\">\n",
              "      <th></th>\n",
              "      <th>date</th>\n",
              "      <th>news</th>\n",
              "      <th>news_tokens</th>\n",
              "      <th>corresponding_tags</th>\n",
              "      <th>lemmatized_news_tokens</th>\n",
              "    </tr>\n",
              "  </thead>\n",
              "  <tbody>\n",
              "    <tr>\n",
              "      <th>0</th>\n",
              "      <td>Thu Apr 09 01:31:50 +0000 2015</td>\n",
              "      <td>Breast cancer risk test devised</td>\n",
              "      <td>[breast, cancer, risk, test, devised]</td>\n",
              "      <td>(NN, NN, NN, NN, VBD)</td>\n",
              "      <td>[breast, cancer, risk, test, devised]</td>\n",
              "    </tr>\n",
              "    <tr>\n",
              "      <th>1</th>\n",
              "      <td>Wed Apr 08 23:30:18 +0000 2015</td>\n",
              "      <td>GP workload harming care - BMA poll</td>\n",
              "      <td>[gp, workload, harming, care, bma, poll]</td>\n",
              "      <td>(NN, NN, VBG, NN, NN, NN)</td>\n",
              "      <td>[gp, workload, harming, care, bma, poll]</td>\n",
              "    </tr>\n",
              "    <tr>\n",
              "      <th>2</th>\n",
              "      <td>Wed Apr 08 23:30:18 +0000 2015</td>\n",
              "      <td>Short people's 'heart risk greater'</td>\n",
              "      <td>[short, peoples, heart, risk, greater]</td>\n",
              "      <td>(JJ, NNS, NN, NN, JJR)</td>\n",
              "      <td>[short, people, heart, risk, greater]</td>\n",
              "    </tr>\n",
              "    <tr>\n",
              "      <th>3</th>\n",
              "      <td>Wed Apr 08 18:05:28 +0000 2015</td>\n",
              "      <td>New approach against HIV 'promising'</td>\n",
              "      <td>[new, approach, against, hiv, promising]</td>\n",
              "      <td>(JJ, NN, IN, NN, NN)</td>\n",
              "      <td>[new, approach, against, hiv, promising]</td>\n",
              "    </tr>\n",
              "    <tr>\n",
              "      <th>4</th>\n",
              "      <td>Wed Apr 08 13:19:33 +0000 2015</td>\n",
              "      <td>Coalition 'undermined NHS' - doctors</td>\n",
              "      <td>[coalition, undermined, nhs, doctors]</td>\n",
              "      <td>(NN, VBD, JJ, NNS)</td>\n",
              "      <td>[coalition, undermined, nh, doctor]</td>\n",
              "    </tr>\n",
              "  </tbody>\n",
              "</table>\n",
              "</div>"
            ],
            "text/plain": [
              "                             date  ...                    lemmatized_news_tokens\n",
              "0  Thu Apr 09 01:31:50 +0000 2015  ...     [breast, cancer, risk, test, devised]\n",
              "1  Wed Apr 08 23:30:18 +0000 2015  ...  [gp, workload, harming, care, bma, poll]\n",
              "2  Wed Apr 08 23:30:18 +0000 2015  ...     [short, people, heart, risk, greater]\n",
              "3  Wed Apr 08 18:05:28 +0000 2015  ...  [new, approach, against, hiv, promising]\n",
              "4  Wed Apr 08 13:19:33 +0000 2015  ...       [coalition, undermined, nh, doctor]\n",
              "\n",
              "[5 rows x 5 columns]"
            ]
          },
          "metadata": {},
          "execution_count": 17
        }
      ]
    },
    {
      "cell_type": "markdown",
      "metadata": {
        "id": "Qdqj2kvJUwKh"
      },
      "source": [
        "# TF-IDF & PCA"
      ]
    },
    {
      "cell_type": "code",
      "metadata": {
        "id": "OOAAG8e5lkH4"
      },
      "source": [
        "# Tranformasi dengan  membuat matriks tfidf dari semua dokumen\n",
        "tfidf = TfidfVectorizer()\n",
        "tfidf_matrix = tfidf.fit_transform(df['lemmatized_news_tokens'].map(lambda x: ' '.join(x)).tolist())"
      ],
      "execution_count": 18,
      "outputs": []
    },
    {
      "cell_type": "code",
      "metadata": {
        "colab": {
          "base_uri": "https://localhost:8080/"
        },
        "id": "0eKZiyzTiVS5",
        "outputId": "71361093-e025-4ff5-9ab2-1d5c88f88961"
      },
      "source": [
        "tfidf_matrix.shape"
      ],
      "execution_count": 19,
      "outputs": [
        {
          "output_type": "execute_result",
          "data": {
            "text/plain": [
              "(3929, 3938)"
            ]
          },
          "metadata": {},
          "execution_count": 19
        }
      ]
    },
    {
      "cell_type": "code",
      "metadata": {
        "colab": {
          "base_uri": "https://localhost:8080/"
        },
        "id": "QxON2h_jBOPX",
        "outputId": "64864eb8-ab5c-4a13-c62b-53d1805babab"
      },
      "source": [
        "tfidf_matrix = tfidf_matrix.todense()\n",
        "tfidf_matrix"
      ],
      "execution_count": 20,
      "outputs": [
        {
          "output_type": "execute_result",
          "data": {
            "text/plain": [
              "matrix([[0., 0., 0., ..., 0., 0., 0.],\n",
              "        [0., 0., 0., ..., 0., 0., 0.],\n",
              "        [0., 0., 0., ..., 0., 0., 0.],\n",
              "        ...,\n",
              "        [0., 0., 0., ..., 0., 0., 0.],\n",
              "        [0., 0., 0., ..., 0., 0., 0.],\n",
              "        [0., 0., 0., ..., 0., 0., 0.]])"
            ]
          },
          "metadata": {},
          "execution_count": 20
        }
      ]
    },
    {
      "cell_type": "code",
      "metadata": {
        "id": "nzrt372ICS-h"
      },
      "source": [
        "# Memangkas dimensi menjadi 2, karerna tfidf matrix memiliki dimensi yang terlalu besar yaitu 3929x3938\n",
        "pca = PCA(n_components=2)\n",
        "pca_matrix = pca.fit_transform(tfidf_matrix.A)"
      ],
      "execution_count": 21,
      "outputs": []
    },
    {
      "cell_type": "markdown",
      "metadata": {
        "id": "njbDp4Mhz_b4"
      },
      "source": [
        "# AGNES"
      ]
    },
    {
      "cell_type": "code",
      "metadata": {
        "colab": {
          "base_uri": "https://localhost:8080/"
        },
        "id": "erYEZGtDAINt",
        "outputId": "db7b252d-5045-4dbb-bac7-71b3f7360974"
      },
      "source": [
        "# Agnes Clustering menggunakan linkage distance\n",
        "agnes = AgglomerativeClustering() #n_clusters = 2\n",
        "a_fit = agnes.fit(tfidf_matrix)\n",
        "p_fit = agnes.fit(pca_matrix)"
      ],
      "execution_count": 22,
      "outputs": [
        {
          "output_type": "stream",
          "name": "stderr",
          "text": [
            "/usr/local/lib/python3.7/dist-packages/sklearn/utils/validation.py:590: FutureWarning: np.matrix usage is deprecated in 1.0 and will raise a TypeError in 1.2. Please convert to a numpy array with np.asarray. For more information see: https://numpy.org/doc/stable/reference/generated/numpy.matrix.html\n",
            "  FutureWarning,\n"
          ]
        }
      ]
    },
    {
      "cell_type": "code",
      "metadata": {
        "colab": {
          "base_uri": "https://localhost:8080/"
        },
        "id": "OXD8eBVnCBcp",
        "outputId": "7dcb92a2-5061-4eaa-e077-33023ed91163"
      },
      "source": [
        "np.unique(agnes.labels_)"
      ],
      "execution_count": 23,
      "outputs": [
        {
          "output_type": "execute_result",
          "data": {
            "text/plain": [
              "array([0, 1])"
            ]
          },
          "metadata": {},
          "execution_count": 23
        }
      ]
    },
    {
      "cell_type": "code",
      "metadata": {
        "colab": {
          "base_uri": "https://localhost:8080/",
          "height": 0
        },
        "id": "G9VPecIiCZrv",
        "outputId": "08c68fb1-9cbd-455e-dc6f-bc84d671db9f"
      },
      "source": [
        "plt.figure(figsize=(10, 10))\n",
        "sns.scatterplot(x=pca_matrix[:,0], y=pca_matrix[:,1], hue=agnes.labels_)"
      ],
      "execution_count": 24,
      "outputs": [
        {
          "output_type": "execute_result",
          "data": {
            "text/plain": [
              "<matplotlib.axes._subplots.AxesSubplot at 0x7f7a811d3e10>"
            ]
          },
          "metadata": {},
          "execution_count": 24
        },
        {
          "output_type": "display_data",
          "data": {
            "image/png": "[encoded data removed]",
            "text/plain": [
              "<Figure size 720x720 with 1 Axes>"
            ]
          },
          "metadata": {
            "needs_background": "light"
          }
        }
      ]
    },
    {
      "cell_type": "markdown",
      "metadata": {
        "id": "fafXdApkdHxf"
      },
      "source": [
        "# Silhouette Score\n",
        "Silhouette Coefficient atau Silhouette Score adalah metrik yang digunakan untuk menghitung kebaikan suatu teknik clustering. Nilainya berkisar dari -1 hingga 1."
      ]
    },
    {
      "cell_type": "code",
      "metadata": {
        "colab": {
          "base_uri": "https://localhost:8080/"
        },
        "id": "I5MICwMHRsDJ",
        "outputId": "dc586376-1964-44f3-ddca-419be45a4017"
      },
      "source": [
        "for k in range(2, 16):\n",
        "    agnes = AgglomerativeClustering(n_clusters=k).fit(pca_matrix)\n",
        "    sil_score = silhouette_score(pca_matrix, agnes.labels_)\n",
        "    print('Number of clusters: {}, Silhoutte Score: {}'.format(k, sil_score))"
      ],
      "execution_count": 25,
      "outputs": [
        {
          "output_type": "stream",
          "name": "stdout",
          "text": [
            "Number of clusters: 2, Silhoutte Score: 0.6387493203316859\n",
            "Number of clusters: 3, Silhoutte Score: 0.6812231839350404\n",
            "Number of clusters: 4, Silhoutte Score: 0.4150551057818054\n",
            "Number of clusters: 5, Silhoutte Score: 0.4544079905921103\n",
            "Number of clusters: 6, Silhoutte Score: 0.4606991295138504\n",
            "Number of clusters: 7, Silhoutte Score: 0.42870341334921375\n",
            "Number of clusters: 8, Silhoutte Score: 0.4123809268659668\n",
            "Number of clusters: 9, Silhoutte Score: 0.42595017719855366\n",
            "Number of clusters: 10, Silhoutte Score: 0.4284804690456733\n",
            "Number of clusters: 11, Silhoutte Score: 0.4372285067034108\n",
            "Number of clusters: 12, Silhoutte Score: 0.43084241515531674\n",
            "Number of clusters: 13, Silhoutte Score: 0.4341644523094845\n",
            "Number of clusters: 14, Silhoutte Score: 0.431640993579177\n",
            "Number of clusters: 15, Silhoutte Score: 0.4057180232691567\n"
          ]
        }
      ]
    }
  ]
}